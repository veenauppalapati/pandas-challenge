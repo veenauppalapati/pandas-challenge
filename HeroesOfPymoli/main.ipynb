{
 "cells": [
  {
   "cell_type": "code",
   "execution_count": 1,
   "metadata": {},
   "outputs": [],
   "source": [
    "#import dependencies\n",
    "import pandas as pd"
   ]
  },
  {
   "cell_type": "code",
   "execution_count": 2,
   "metadata": {
    "scrolled": true
   },
   "outputs": [
    {
     "data": {
      "text/html": [
       "<div>\n",
       "<style scoped>\n",
       "    .dataframe tbody tr th:only-of-type {\n",
       "        vertical-align: middle;\n",
       "    }\n",
       "\n",
       "    .dataframe tbody tr th {\n",
       "        vertical-align: top;\n",
       "    }\n",
       "\n",
       "    .dataframe thead th {\n",
       "        text-align: right;\n",
       "    }\n",
       "</style>\n",
       "<table border=\"1\" class=\"dataframe\">\n",
       "  <thead>\n",
       "    <tr style=\"text-align: right;\">\n",
       "      <th></th>\n",
       "      <th>Purchase ID</th>\n",
       "      <th>SN</th>\n",
       "      <th>Age</th>\n",
       "      <th>Gender</th>\n",
       "      <th>Item ID</th>\n",
       "      <th>Item Name</th>\n",
       "      <th>Price</th>\n",
       "    </tr>\n",
       "  </thead>\n",
       "  <tbody>\n",
       "    <tr>\n",
       "      <th>0</th>\n",
       "      <td>0</td>\n",
       "      <td>Lisim78</td>\n",
       "      <td>20</td>\n",
       "      <td>Male</td>\n",
       "      <td>108</td>\n",
       "      <td>Extraction, Quickblade Of Trembling Hands</td>\n",
       "      <td>3.53</td>\n",
       "    </tr>\n",
       "    <tr>\n",
       "      <th>1</th>\n",
       "      <td>1</td>\n",
       "      <td>Lisovynya38</td>\n",
       "      <td>40</td>\n",
       "      <td>Male</td>\n",
       "      <td>143</td>\n",
       "      <td>Frenzied Scimitar</td>\n",
       "      <td>1.56</td>\n",
       "    </tr>\n",
       "    <tr>\n",
       "      <th>2</th>\n",
       "      <td>2</td>\n",
       "      <td>Ithergue48</td>\n",
       "      <td>24</td>\n",
       "      <td>Male</td>\n",
       "      <td>92</td>\n",
       "      <td>Final Critic</td>\n",
       "      <td>4.88</td>\n",
       "    </tr>\n",
       "    <tr>\n",
       "      <th>3</th>\n",
       "      <td>3</td>\n",
       "      <td>Chamassasya86</td>\n",
       "      <td>24</td>\n",
       "      <td>Male</td>\n",
       "      <td>100</td>\n",
       "      <td>Blindscythe</td>\n",
       "      <td>3.27</td>\n",
       "    </tr>\n",
       "    <tr>\n",
       "      <th>4</th>\n",
       "      <td>4</td>\n",
       "      <td>Iskosia90</td>\n",
       "      <td>23</td>\n",
       "      <td>Male</td>\n",
       "      <td>131</td>\n",
       "      <td>Fury</td>\n",
       "      <td>1.44</td>\n",
       "    </tr>\n",
       "  </tbody>\n",
       "</table>\n",
       "</div>"
      ],
      "text/plain": [
       "   Purchase ID             SN  Age Gender  Item ID  \\\n",
       "0            0        Lisim78   20   Male      108   \n",
       "1            1    Lisovynya38   40   Male      143   \n",
       "2            2     Ithergue48   24   Male       92   \n",
       "3            3  Chamassasya86   24   Male      100   \n",
       "4            4      Iskosia90   23   Male      131   \n",
       "\n",
       "                                   Item Name  Price  \n",
       "0  Extraction, Quickblade Of Trembling Hands   3.53  \n",
       "1                          Frenzied Scimitar   1.56  \n",
       "2                               Final Critic   4.88  \n",
       "3                                Blindscythe   3.27  \n",
       "4                                       Fury   1.44  "
      ]
     },
     "execution_count": 2,
     "metadata": {},
     "output_type": "execute_result"
    }
   ],
   "source": [
    "#Import csv data \n",
    "file_path = \"Resources\\purchase_data.csv\"\n",
    "\n",
    "purchase_data_df = pd.read_csv(file_path)\n",
    "purchase_data_df.head()"
   ]
  },
  {
   "cell_type": "code",
   "execution_count": 28,
   "metadata": {},
   "outputs": [
    {
     "name": "stdout",
     "output_type": "stream",
     "text": [
      "Player Count: 576\n",
      "Unique items: 179\n",
      "Average Purchase Price: 3.05\n",
      "Total Purchases: 780\n",
      "Total Revenue: 2379.77\n"
     ]
    }
   ],
   "source": [
    "#Total Number of Players\n",
    "players_unique_df = purchase_data_df['SN'].unique()\n",
    "\n",
    "player_count = len(players_unique_df)\n",
    "print(f\"Player Count: {player_count}\")\n",
    "\n",
    "#Number of Unique Items\n",
    "unique_items = len(purchase_data_df['Item ID'].unique())\n",
    "print(f\"Unique items: {unique_items}\")\n",
    "\n",
    "#Average Purchase Price\n",
    "average_purchase_price = round(purchase_data_df[\"Price\"].mean(), 2)\n",
    "print(f\"Average Purchase Price: {average_purchase_price}\")\n",
    "\n",
    "#Total Number of Purchases\n",
    "total_purchases = len(purchase_data_df['Purchase ID'])\n",
    "print(f\"Total Purchases: {total_purchases}\")\n",
    "\n",
    "#Total Revenue\n",
    "total_revenue = purchase_data_df[\"Price\"].sum()\n",
    "print(f\"Total Revenue: {total_revenue}\")"
   ]
  },
  {
   "cell_type": "code",
   "execution_count": 39,
   "metadata": {},
   "outputs": [
    {
     "name": "stdout",
     "output_type": "stream",
     "text": [
      "Player count: 780\n",
      "\n",
      "Male player count: SN    652\n",
      "dtype: int64\n",
      "\n",
      "Male percentage : SN    83.59\n",
      "dtype: float64\n",
      "\n"
     ]
    }
   ],
   "source": [
    "#--------------------------------------\n",
    "#Percentage and count of male players\n",
    "#--------------------------------------\n",
    "\n",
    "# Total player count\n",
    "player_count = purchase_data_df['SN'].count()\n",
    "print(f\"Player count: {player_count}\\n\")\n",
    "\n",
    "# Male players \n",
    "male_players = purchase_data_df.loc[purchase_data_df['Gender']=='Male', ['SN']]\n",
    "\n",
    "# Male players count\n",
    "male_player_count = male_players.count()\n",
    "print(f\"Male player count: {male_player_count}\\n\")\n",
    "\n",
    "# Calculate the percentage\n",
    "male_percentage = round((male_player_count / player_count) * 100, 2)\n",
    "print(f\"Male percentage : {male_percentage}\\n\")\n"
   ]
  },
  {
   "cell_type": "code",
   "execution_count": 23,
   "metadata": {},
   "outputs": [
    {
     "name": "stdout",
     "output_type": "stream",
     "text": [
      "Female player count: SN    113\n",
      "dtype: int64\n",
      "\n",
      "Female percentage : SN    14.49\n",
      "dtype: float64\n",
      "\n"
     ]
    }
   ],
   "source": [
    "# Female players \n",
    "female_players = purchase_data_df.loc[purchase_data_df['Gender']=='Female', ['SN']]\n",
    "\n",
    "# Female players count\n",
    "female_player_count = female_players.count()\n",
    "print(f\"Female player count: {female_player_count}\\n\")\n",
    "\n",
    "# Calculate the percentage\n",
    "female_percentage = round((female_player_count / player_count) * 100)\n",
    "print(f\"Female percentage : {female_percentage}\\n\")\n"
   ]
  },
  {
   "cell_type": "code",
   "execution_count": 24,
   "metadata": {},
   "outputs": [
    {
     "data": {
      "text/plain": [
       "Male                     652\n",
       "Female                   113\n",
       "Other / Non-Disclosed     15\n",
       "Name: Gender, dtype: int64"
      ]
     },
     "execution_count": 24,
     "metadata": {},
     "output_type": "execute_result"
    }
   ],
   "source": [
    "gender_series = purchase_data_df['Gender'].value_counts()\n",
    "gender_series"
   ]
  },
  {
   "cell_type": "code",
   "execution_count": 25,
   "metadata": {},
   "outputs": [
    {
     "name": "stdout",
     "output_type": "stream",
     "text": [
      "Other / Non-Disclosed player count: SN    15\n",
      "dtype: int64\n",
      "\n",
      "Other / Non-Disclosed percentage : SN    1.92\n",
      "dtype: float64\n",
      "\n"
     ]
    }
   ],
   "source": [
    "# Other / Non-Disclosed players \n",
    "other_players = purchase_data_df.loc[purchase_data_df['Gender']=='Other / Non-Disclosed', ['SN']]\n",
    "\n",
    "# Other / Non-Disclosed players count\n",
    "other_player_count = other_players.count()\n",
    "print(f\"Other / Non-Disclosed player count: {other_player_count}\\n\")\n",
    "\n",
    "# Calculate the percentage of Other / Non-Disclosed\n",
    "other_percentage = round((other_player_count / player_count) * 100, 2)\n",
    "print(f\"Other / Non-Disclosed percentage : {other_percentage}\\n\")"
   ]
  },
  {
   "cell_type": "code",
   "execution_count": 51,
   "metadata": {},
   "outputs": [
    {
     "name": "stdout",
     "output_type": "stream",
     "text": [
      "652\n",
      "3.02\n",
      "1967.64\n"
     ]
    }
   ],
   "source": [
    "male_data = purchase_data_df.loc[purchase_data_df['Gender'] == 'Male', :]\n",
    "\n",
    "#Male purchase count\n",
    "male_purchase_count = male_data['Item ID'].count()\n",
    "print(male_purchase_count)\n",
    "\n",
    "#Average purchase price for male\n",
    "male_purchase_price = round(male_data['Price'].mean(), 2)\n",
    "print(male_purchase_price)\n",
    "\n",
    "#Total purchase value for males\n",
    "male_total_purchase_value = male_data['Price'].sum()\n",
    "print(male_total_purchase_value)\n"
   ]
  },
  {
   "cell_type": "code",
   "execution_count": 52,
   "metadata": {},
   "outputs": [
    {
     "name": "stdout",
     "output_type": "stream",
     "text": [
      "113\n",
      "3.2\n",
      "361.94\n"
     ]
    }
   ],
   "source": [
    "female_data = purchase_data_df.loc[purchase_data_df['Gender'] == 'Female', :]\n",
    "\n",
    "#Female purchase count\n",
    "female_purchase_count = female_data['Item ID'].count()\n",
    "print(female_purchase_count)\n",
    "\n",
    "#Average purchase price for female\n",
    "female_purchase_price = round(female_data['Price'].mean(), 2)\n",
    "print(female_purchase_price)\n",
    "\n",
    "#Total purchase value for females\n",
    "female_total_purchase_value = female_data['Price'].sum()\n",
    "print(female_total_purchase_value)"
   ]
  },
  {
   "cell_type": "code",
   "execution_count": 54,
   "metadata": {},
   "outputs": [
    {
     "name": "stdout",
     "output_type": "stream",
     "text": [
      "15\n",
      "3.35\n",
      "50.19\n"
     ]
    }
   ],
   "source": [
    "other_data = purchase_data_df.loc[purchase_data_df['Gender'] == 'Other / Non-Disclosed', :]\n",
    "\n",
    "#Other / Non-Disclosed purchase count\n",
    "other_purchase_count = other_data['Item ID'].count()\n",
    "print(other_purchase_count)\n",
    "\n",
    "#Average purchase price for Other / Non-Disclosed\n",
    "other_purchase_price = round(other_data['Price'].mean(), 2)\n",
    "print(other_purchase_price)\n",
    "\n",
    "#Total purchase value for Other / Non-Disclosed\n",
    "other_total_purchase_value = other_data['Price'].sum()\n",
    "print(other_total_purchase_value)"
   ]
  },
  {
   "cell_type": "code",
   "execution_count": 55,
   "metadata": {},
   "outputs": [
    {
     "name": "stdout",
     "output_type": "stream",
     "text": [
      "2379.77\n"
     ]
    }
   ],
   "source": [
    "#check \n",
    "print(male_total_purchase_value + female_total_purchase_value + other_total_purchase_value)"
   ]
  },
  {
   "cell_type": "code",
   "execution_count": null,
   "metadata": {},
   "outputs": [],
   "source": []
  }
 ],
 "metadata": {
  "kernelspec": {
   "display_name": "Python 3",
   "language": "python",
   "name": "python3"
  },
  "language_info": {
   "codemirror_mode": {
    "name": "ipython",
    "version": 3
   },
   "file_extension": ".py",
   "mimetype": "text/x-python",
   "name": "python",
   "nbconvert_exporter": "python",
   "pygments_lexer": "ipython3",
   "version": "3.6.10"
  }
 },
 "nbformat": 4,
 "nbformat_minor": 4
}
